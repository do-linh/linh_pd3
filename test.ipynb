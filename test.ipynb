{
 "cells": [
  {
   "cell_type": "code",
   "execution_count": null,
   "metadata": {},
   "outputs": [],
   "source": [
    "import requests\n",
    "import json\n",
    "from django.conf import settings\n",
    "import base64\n",
    "\n",
    "client_id = \"AXDlGD62uA3MDhETwx3Fo-l2ZkKQj6tLTv1QmpY9NeAyVWcqSdhIcpI4OymG91RhSLdzcl-22hmMK7yr\"\n",
    "client_secret = \"EFtVerLjxAewcHTyS_oMJ6QnC0gfOBCGnnf4gie_3ryc__AwJ3s6i565o1KmY8goxsgXEV3uT-NaVCcr\"\n",
    "\n",
    "def get_access_token():\n",
    "    url = \"https://api-m.sandbox.paypal.com/v1/oauth2/token\"\n",
    "    payload='grant_type=client_credentials&ignoreCache=true&return_authn_schemes=true&return_client_metadata=true&return_unconsented_scopes=true'\n",
    "    s = client_id + \":\" + client_secret\n",
    "    s_bytes = s.encode(\"ascii\")\n",
    "    \n",
    "    base64_bytes = base64.b64encode(s_bytes)\n",
    "    base64_string = base64_bytes.decode(\"ascii\")\n",
    "\n",
    "    headers = {\n",
    "    'Authorization': f'Basic {base64_string}',\n",
    "    'Content-Type': 'application/x-www-form-urlencoded'\n",
    "    }\n",
    "\n",
    "    response = requests.request(\"POST\", url, headers=headers, data=payload)\n",
    "    "
   ]
  }
 ],
 "metadata": {
  "language_info": {
   "name": "python"
  },
  "orig_nbformat": 4
 },
 "nbformat": 4,
 "nbformat_minor": 2
}
